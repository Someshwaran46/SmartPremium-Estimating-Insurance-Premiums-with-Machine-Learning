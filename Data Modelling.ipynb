{
 "cells": [
  {
   "cell_type": "code",
   "execution_count": 1,
   "id": "a8b675ee",
   "metadata": {},
   "outputs": [],
   "source": [
    "import numpy as np\n",
    "import pandas as pd\n",
    "\n"
   ]
  },
  {
   "cell_type": "code",
   "execution_count": 2,
   "id": "6c27d6bd",
   "metadata": {},
   "outputs": [],
   "source": [
    "df=pd.read_csv(\"/Users/somesh-19583/Desktop/Insurance_amount_prediction/csv/preprocessed_data.csv\")\n"
   ]
  },
  {
   "cell_type": "code",
   "execution_count": 3,
   "id": "3fb4dfa8",
   "metadata": {},
   "outputs": [
    {
     "data": {
      "text/html": [
       "<div>\n",
       "<style scoped>\n",
       "    .dataframe tbody tr th:only-of-type {\n",
       "        vertical-align: middle;\n",
       "    }\n",
       "\n",
       "    .dataframe tbody tr th {\n",
       "        vertical-align: top;\n",
       "    }\n",
       "\n",
       "    .dataframe thead th {\n",
       "        text-align: right;\n",
       "    }\n",
       "</style>\n",
       "<table border=\"1\" class=\"dataframe\">\n",
       "  <thead>\n",
       "    <tr style=\"text-align: right;\">\n",
       "      <th></th>\n",
       "      <th>Age</th>\n",
       "      <th>Annual Income</th>\n",
       "      <th>Number of Dependents</th>\n",
       "      <th>Education Level</th>\n",
       "      <th>Health Score</th>\n",
       "      <th>Previous Claims</th>\n",
       "      <th>Vehicle Age</th>\n",
       "      <th>Credit Score</th>\n",
       "      <th>Insurance Duration</th>\n",
       "      <th>Exercise Frequency</th>\n",
       "      <th>Premium Amount</th>\n",
       "      <th>Gender_Male</th>\n",
       "      <th>Policy Type_Comprehensive</th>\n",
       "      <th>Policy Type_Premium</th>\n",
       "      <th>Smoking Status_Yes</th>\n",
       "      <th>Marital Status_Married</th>\n",
       "      <th>Marital Status_Single</th>\n",
       "      <th>Occupation_Self-Employed</th>\n",
       "      <th>Occupation_Unemployed</th>\n",
       "      <th>Location_Suburban</th>\n",
       "      <th>Location_Urban</th>\n",
       "      <th>Property Type_Condo</th>\n",
       "      <th>Property Type_House</th>\n",
       "      <th>credit_rating</th>\n",
       "    </tr>\n",
       "  </thead>\n",
       "  <tbody>\n",
       "    <tr>\n",
       "      <th>0</th>\n",
       "      <td>19.0</td>\n",
       "      <td>9.215427</td>\n",
       "      <td>1.0</td>\n",
       "      <td>1</td>\n",
       "      <td>22.598761</td>\n",
       "      <td>2.0</td>\n",
       "      <td>17.0</td>\n",
       "      <td>372.0</td>\n",
       "      <td>5.0</td>\n",
       "      <td>2</td>\n",
       "      <td>7.962416</td>\n",
       "      <td>0</td>\n",
       "      <td>0</td>\n",
       "      <td>1</td>\n",
       "      <td>0</td>\n",
       "      <td>1</td>\n",
       "      <td>0</td>\n",
       "      <td>1</td>\n",
       "      <td>0</td>\n",
       "      <td>0</td>\n",
       "      <td>1</td>\n",
       "      <td>0</td>\n",
       "      <td>1</td>\n",
       "      <td>1</td>\n",
       "    </tr>\n",
       "    <tr>\n",
       "      <th>1</th>\n",
       "      <td>39.0</td>\n",
       "      <td>10.363441</td>\n",
       "      <td>3.0</td>\n",
       "      <td>2</td>\n",
       "      <td>15.569731</td>\n",
       "      <td>1.0</td>\n",
       "      <td>12.0</td>\n",
       "      <td>694.0</td>\n",
       "      <td>2.0</td>\n",
       "      <td>1</td>\n",
       "      <td>7.303170</td>\n",
       "      <td>0</td>\n",
       "      <td>1</td>\n",
       "      <td>0</td>\n",
       "      <td>1</td>\n",
       "      <td>0</td>\n",
       "      <td>0</td>\n",
       "      <td>0</td>\n",
       "      <td>0</td>\n",
       "      <td>0</td>\n",
       "      <td>0</td>\n",
       "      <td>0</td>\n",
       "      <td>1</td>\n",
       "      <td>3</td>\n",
       "    </tr>\n",
       "  </tbody>\n",
       "</table>\n",
       "</div>"
      ],
      "text/plain": [
       "    Age  Annual Income  Number of Dependents  Education Level  Health Score  \\\n",
       "0  19.0       9.215427                   1.0                1     22.598761   \n",
       "1  39.0      10.363441                   3.0                2     15.569731   \n",
       "\n",
       "   Previous Claims  Vehicle Age  Credit Score  Insurance Duration  \\\n",
       "0              2.0         17.0         372.0                 5.0   \n",
       "1              1.0         12.0         694.0                 2.0   \n",
       "\n",
       "   Exercise Frequency  Premium Amount  Gender_Male  Policy Type_Comprehensive  \\\n",
       "0                   2        7.962416            0                          0   \n",
       "1                   1        7.303170            0                          1   \n",
       "\n",
       "   Policy Type_Premium  Smoking Status_Yes  Marital Status_Married  \\\n",
       "0                    1                   0                       1   \n",
       "1                    0                   1                       0   \n",
       "\n",
       "   Marital Status_Single  Occupation_Self-Employed  Occupation_Unemployed  \\\n",
       "0                      0                         1                      0   \n",
       "1                      0                         0                      0   \n",
       "\n",
       "   Location_Suburban  Location_Urban  Property Type_Condo  \\\n",
       "0                  0               1                    0   \n",
       "1                  0               0                    0   \n",
       "\n",
       "   Property Type_House  credit_rating  \n",
       "0                    1              1  \n",
       "1                    1              3  "
      ]
     },
     "execution_count": 3,
     "metadata": {},
     "output_type": "execute_result"
    }
   ],
   "source": [
    "pd.set_option('display.max_columns', None)\n",
    "df.head(2)"
   ]
  },
  {
   "cell_type": "code",
   "execution_count": 4,
   "id": "92397ce0",
   "metadata": {},
   "outputs": [],
   "source": [
    "from sklearn.model_selection import train_test_split\n",
    "from sklearn.linear_model import LinearRegression\n",
    "from sklearn.tree import DecisionTreeRegressor\n",
    "from sklearn.ensemble import RandomForestRegressor\n",
    "from xgboost import XGBRegressor\n",
    "from sklearn.metrics import mean_squared_log_error, mean_squared_error, r2_score, mean_absolute_error\n"
   ]
  },
  {
   "cell_type": "code",
   "execution_count": 5,
   "id": "07958f9c",
   "metadata": {},
   "outputs": [],
   "source": [
    "X = df.drop('Premium Amount',axis=1)\n",
    "y = df['Premium Amount']"
   ]
  },
  {
   "cell_type": "code",
   "execution_count": 6,
   "id": "5e2872af",
   "metadata": {},
   "outputs": [],
   "source": [
    "X_train,X_test,y_train,y_test = train_test_split(X,y,test_size=0.3,random_state=42)"
   ]
  },
  {
   "cell_type": "markdown",
   "id": "991fbdcb",
   "metadata": {},
   "source": [
    "Feature Importance"
   ]
  },
  {
   "cell_type": "code",
   "execution_count": 7,
   "id": "57ec1cf0",
   "metadata": {},
   "outputs": [
    {
     "data": {
      "image/png": "[encoded data removed]",
      "text/plain": [
       "<Figure size 1000x600 with 1 Axes>"
      ]
     },
     "metadata": {},
     "output_type": "display_data"
    }
   ],
   "source": [
    "from sklearn.ensemble import RandomForestRegressor\n",
    "import pandas as pd\n",
    "import matplotlib.pyplot as plt\n",
    "\n",
    "# Sample a smaller subset (optional but helps a lot)\n",
    "X_sample = X_train.sample(frac=0.3, random_state=42)\n",
    "y_sample = y_train.loc[X_sample.index]\n",
    "\n",
    "# Train a faster model\n",
    "model = RandomForestRegressor(\n",
    "    n_estimators=30,    # Fewer trees = faster\n",
    "    max_depth=10,       # Limit depth to avoid overfitting and reduce time\n",
    "    n_jobs=-1,          # Use all cores\n",
    "    random_state=42\n",
    ")\n",
    "model.fit(X_sample, y_sample)\n",
    "\n",
    "# Get and sort feature importances\n",
    "importances = model.feature_importances_\n",
    "feature_names = X_train.columns\n",
    "importance_df = pd.DataFrame({'Feature': feature_names, 'Importance': importances})\n",
    "importance_df = importance_df.sort_values(by='Importance', ascending=False)\n",
    "\n",
    "# Plot top 15 only (optional for speed/clarity)\n",
    "top_n = 15\n",
    "top_features = importance_df.head(top_n)\n",
    "\n",
    "plt.figure(figsize=(10, 6))\n",
    "plt.barh(top_features['Feature'], top_features['Importance'], color='skyblue')\n",
    "plt.xlabel('Importance')\n",
    "plt.title(f'Top {top_n} Feature Importances - Random Forest')\n",
    "plt.gca().invert_yaxis()\n",
    "plt.tight_layout()\n",
    "plt.show()\n"
   ]
  },
  {
   "cell_type": "code",
   "execution_count": 8,
   "id": "d8c7faa3",
   "metadata": {},
   "outputs": [
    {
     "data": {
      "text/html": [
       "<div>\n",
       "<style scoped>\n",
       "    .dataframe tbody tr th:only-of-type {\n",
       "        vertical-align: middle;\n",
       "    }\n",
       "\n",
       "    .dataframe tbody tr th {\n",
       "        vertical-align: top;\n",
       "    }\n",
       "\n",
       "    .dataframe thead th {\n",
       "        text-align: right;\n",
       "    }\n",
       "</style>\n",
       "<table border=\"1\" class=\"dataframe\">\n",
       "  <thead>\n",
       "    <tr style=\"text-align: right;\">\n",
       "      <th></th>\n",
       "      <th>Annual Income</th>\n",
       "      <th>Credit Score</th>\n",
       "      <th>Health Score</th>\n",
       "      <th>Previous Claims</th>\n",
       "      <th>Age</th>\n",
       "      <th>Vehicle Age</th>\n",
       "      <th>Insurance Duration</th>\n",
       "      <th>Number of Dependents</th>\n",
       "      <th>Education Level</th>\n",
       "      <th>Exercise Frequency</th>\n",
       "      <th>Premium Amount</th>\n",
       "    </tr>\n",
       "  </thead>\n",
       "  <tbody>\n",
       "    <tr>\n",
       "      <th>0</th>\n",
       "      <td>9.215427</td>\n",
       "      <td>372.0</td>\n",
       "      <td>22.598761</td>\n",
       "      <td>2.0</td>\n",
       "      <td>19.0</td>\n",
       "      <td>17.0</td>\n",
       "      <td>5.0</td>\n",
       "      <td>1.0</td>\n",
       "      <td>1</td>\n",
       "      <td>2</td>\n",
       "      <td>7.962416</td>\n",
       "    </tr>\n",
       "    <tr>\n",
       "      <th>1</th>\n",
       "      <td>10.363441</td>\n",
       "      <td>694.0</td>\n",
       "      <td>15.569731</td>\n",
       "      <td>1.0</td>\n",
       "      <td>39.0</td>\n",
       "      <td>12.0</td>\n",
       "      <td>2.0</td>\n",
       "      <td>3.0</td>\n",
       "      <td>2</td>\n",
       "      <td>1</td>\n",
       "      <td>7.303170</td>\n",
       "    </tr>\n",
       "    <tr>\n",
       "      <th>2</th>\n",
       "      <td>10.150504</td>\n",
       "      <td>595.0</td>\n",
       "      <td>47.177549</td>\n",
       "      <td>1.0</td>\n",
       "      <td>23.0</td>\n",
       "      <td>14.0</td>\n",
       "      <td>3.0</td>\n",
       "      <td>3.0</td>\n",
       "      <td>0</td>\n",
       "      <td>2</td>\n",
       "      <td>6.343880</td>\n",
       "    </tr>\n",
       "    <tr>\n",
       "      <th>3</th>\n",
       "      <td>11.481156</td>\n",
       "      <td>367.0</td>\n",
       "      <td>10.938144</td>\n",
       "      <td>1.0</td>\n",
       "      <td>21.0</td>\n",
       "      <td>0.0</td>\n",
       "      <td>1.0</td>\n",
       "      <td>2.0</td>\n",
       "      <td>1</td>\n",
       "      <td>3</td>\n",
       "      <td>6.642487</td>\n",
       "    </tr>\n",
       "    <tr>\n",
       "      <th>4</th>\n",
       "      <td>10.587922</td>\n",
       "      <td>598.0</td>\n",
       "      <td>20.376094</td>\n",
       "      <td>0.0</td>\n",
       "      <td>21.0</td>\n",
       "      <td>8.0</td>\n",
       "      <td>4.0</td>\n",
       "      <td>1.0</td>\n",
       "      <td>1</td>\n",
       "      <td>2</td>\n",
       "      <td>7.612831</td>\n",
       "    </tr>\n",
       "    <tr>\n",
       "      <th>...</th>\n",
       "      <td>...</td>\n",
       "      <td>...</td>\n",
       "      <td>...</td>\n",
       "      <td>...</td>\n",
       "      <td>...</td>\n",
       "      <td>...</td>\n",
       "      <td>...</td>\n",
       "      <td>...</td>\n",
       "      <td>...</td>\n",
       "      <td>...</td>\n",
       "      <td>...</td>\n",
       "    </tr>\n",
       "    <tr>\n",
       "      <th>1199995</th>\n",
       "      <td>10.215301</td>\n",
       "      <td>372.0</td>\n",
       "      <td>13.772907</td>\n",
       "      <td>1.0</td>\n",
       "      <td>36.0</td>\n",
       "      <td>5.0</td>\n",
       "      <td>3.0</td>\n",
       "      <td>0.0</td>\n",
       "      <td>2</td>\n",
       "      <td>3</td>\n",
       "      <td>7.173958</td>\n",
       "    </tr>\n",
       "    <tr>\n",
       "      <th>1199996</th>\n",
       "      <td>10.485368</td>\n",
       "      <td>597.0</td>\n",
       "      <td>11.483482</td>\n",
       "      <td>1.0</td>\n",
       "      <td>54.0</td>\n",
       "      <td>10.0</td>\n",
       "      <td>4.0</td>\n",
       "      <td>2.0</td>\n",
       "      <td>2</td>\n",
       "      <td>2</td>\n",
       "      <td>6.712956</td>\n",
       "    </tr>\n",
       "    <tr>\n",
       "      <th>1199997</th>\n",
       "      <td>10.856804</td>\n",
       "      <td>595.0</td>\n",
       "      <td>14.724469</td>\n",
       "      <td>0.0</td>\n",
       "      <td>19.0</td>\n",
       "      <td>19.0</td>\n",
       "      <td>6.0</td>\n",
       "      <td>0.0</td>\n",
       "      <td>2</td>\n",
       "      <td>1</td>\n",
       "      <td>5.921578</td>\n",
       "    </tr>\n",
       "    <tr>\n",
       "      <th>1199998</th>\n",
       "      <td>10.109810</td>\n",
       "      <td>407.0</td>\n",
       "      <td>18.547381</td>\n",
       "      <td>1.0</td>\n",
       "      <td>55.0</td>\n",
       "      <td>7.0</td>\n",
       "      <td>4.0</td>\n",
       "      <td>1.0</td>\n",
       "      <td>3</td>\n",
       "      <td>3</td>\n",
       "      <td>6.393591</td>\n",
       "    </tr>\n",
       "    <tr>\n",
       "      <th>1199999</th>\n",
       "      <td>10.063564</td>\n",
       "      <td>502.0</td>\n",
       "      <td>10.125323</td>\n",
       "      <td>0.0</td>\n",
       "      <td>21.0</td>\n",
       "      <td>18.0</td>\n",
       "      <td>6.0</td>\n",
       "      <td>0.0</td>\n",
       "      <td>3</td>\n",
       "      <td>1</td>\n",
       "      <td>7.816820</td>\n",
       "    </tr>\n",
       "  </tbody>\n",
       "</table>\n",
       "<p>1200000 rows × 11 columns</p>\n",
       "</div>"
      ],
      "text/plain": [
       "         Annual Income  Credit Score  Health Score  Previous Claims   Age  \\\n",
       "0             9.215427         372.0     22.598761              2.0  19.0   \n",
       "1            10.363441         694.0     15.569731              1.0  39.0   \n",
       "2            10.150504         595.0     47.177549              1.0  23.0   \n",
       "3            11.481156         367.0     10.938144              1.0  21.0   \n",
       "4            10.587922         598.0     20.376094              0.0  21.0   \n",
       "...                ...           ...           ...              ...   ...   \n",
       "1199995      10.215301         372.0     13.772907              1.0  36.0   \n",
       "1199996      10.485368         597.0     11.483482              1.0  54.0   \n",
       "1199997      10.856804         595.0     14.724469              0.0  19.0   \n",
       "1199998      10.109810         407.0     18.547381              1.0  55.0   \n",
       "1199999      10.063564         502.0     10.125323              0.0  21.0   \n",
       "\n",
       "         Vehicle Age  Insurance Duration  Number of Dependents  \\\n",
       "0               17.0                 5.0                   1.0   \n",
       "1               12.0                 2.0                   3.0   \n",
       "2               14.0                 3.0                   3.0   \n",
       "3                0.0                 1.0                   2.0   \n",
       "4                8.0                 4.0                   1.0   \n",
       "...              ...                 ...                   ...   \n",
       "1199995          5.0                 3.0                   0.0   \n",
       "1199996         10.0                 4.0                   2.0   \n",
       "1199997         19.0                 6.0                   0.0   \n",
       "1199998          7.0                 4.0                   1.0   \n",
       "1199999         18.0                 6.0                   0.0   \n",
       "\n",
       "         Education Level  Exercise Frequency  Premium Amount  \n",
       "0                      1                   2        7.962416  \n",
       "1                      2                   1        7.303170  \n",
       "2                      0                   2        6.343880  \n",
       "3                      1                   3        6.642487  \n",
       "4                      1                   2        7.612831  \n",
       "...                  ...                 ...             ...  \n",
       "1199995                2                   3        7.173958  \n",
       "1199996                2                   2        6.712956  \n",
       "1199997                2                   1        5.921578  \n",
       "1199998                3                   3        6.393591  \n",
       "1199999                3                   1        7.816820  \n",
       "\n",
       "[1200000 rows x 11 columns]"
      ]
     },
     "execution_count": 8,
     "metadata": {},
     "output_type": "execute_result"
    }
   ],
   "source": [
    "# 1. Define feature matrix and target vector\n",
    "X = df[['Annual Income', 'Credit Score', 'Health Score', 'Previous Claims',\n",
    "        'Age', 'Vehicle Age','Insurance Duration',\n",
    "        'Number of Dependents',  'Education Level','Exercise Frequency']]\n",
    "\n",
    "y = df['Premium Amount']\n",
    "\n",
    "# 2. Combine features and target into one DataFrame\n",
    "df1 = pd.concat([X, y], axis=1)\n",
    "\n",
    "# 3. Display the result\n",
    "df1\n"
   ]
  },
  {
   "cell_type": "code",
   "execution_count": 9,
   "id": "ff03f4b4",
   "metadata": {},
   "outputs": [],
   "source": [
    "X_train,X_test,y_train,y_test = train_test_split(X,y,test_size=0.3,random_state=42)"
   ]
  },
  {
   "cell_type": "code",
   "execution_count": 10,
   "id": "ea511950",
   "metadata": {},
   "outputs": [],
   "source": [
    "import mlflow\n",
    "import mlflow.sklearn\n",
    "from mlflow.models.signature import infer_signature"
   ]
  },
  {
   "cell_type": "code",
   "execution_count": 11,
   "id": "4de40afa",
   "metadata": {},
   "outputs": [
    {
     "name": "stderr",
     "output_type": "stream",
     "text": [
      "2025/04/17 15:04:59 INFO mlflow.tracking.fluent: Experiment with name 'Regression Model Evaluation' does not exist. Creating a new experiment.\n"
     ]
    },
    {
     "name": "stdout",
     "output_type": "stream",
     "text": [
      "\n",
      "🔹 Training Linear Regression...\n"
     ]
    },
    {
     "name": "stderr",
     "output_type": "stream",
     "text": [
      "/Library/Frameworks/Python.framework/Versions/3.13/lib/python3.13/site-packages/mlflow/types/utils.py:452: UserWarning: Hint: Inferred schema contains integer column(s). Integer columns in Python cannot represent missing values. If your input data contains missing values at inference time, it will be encoded as floats and will cause a schema enforcement error. The best way to avoid this problem is to infer the model schema based on a realistic data sample (training dataset) that includes missing values. Alternatively, you can declare integer columns as doubles (float64) whenever these columns may have missing values. See `Handling Integers With Missing Values <https://www.mlflow.org/docs/latest/models.html#handling-integers-with-missing-values>`_ for more details.\n",
      "  warnings.warn(\n"
     ]
    },
    {
     "name": "stdout",
     "output_type": "stream",
     "text": [
      "🏃 View run Linear Regression at: http://127.0.0.1:5000/#/experiments/166694248471690535/runs/22dd6bba490741afbdc957d7af84e98d\n",
      "🧪 View experiment at: http://127.0.0.1:5000/#/experiments/166694248471690535\n",
      "\n",
      "🔹 Training Decision Tree...\n"
     ]
    },
    {
     "name": "stderr",
     "output_type": "stream",
     "text": [
      "/Library/Frameworks/Python.framework/Versions/3.13/lib/python3.13/site-packages/mlflow/types/utils.py:452: UserWarning: Hint: Inferred schema contains integer column(s). Integer columns in Python cannot represent missing values. If your input data contains missing values at inference time, it will be encoded as floats and will cause a schema enforcement error. The best way to avoid this problem is to infer the model schema based on a realistic data sample (training dataset) that includes missing values. Alternatively, you can declare integer columns as doubles (float64) whenever these columns may have missing values. See `Handling Integers With Missing Values <https://www.mlflow.org/docs/latest/models.html#handling-integers-with-missing-values>`_ for more details.\n",
      "  warnings.warn(\n"
     ]
    },
    {
     "name": "stdout",
     "output_type": "stream",
     "text": [
      "🏃 View run Decision Tree at: http://127.0.0.1:5000/#/experiments/166694248471690535/runs/4ae5fa0beb4a4edc9ce4196d2485eca7\n",
      "🧪 View experiment at: http://127.0.0.1:5000/#/experiments/166694248471690535\n",
      "\n",
      "🔹 Training Random Forest...\n"
     ]
    },
    {
     "name": "stderr",
     "output_type": "stream",
     "text": [
      "/Library/Frameworks/Python.framework/Versions/3.13/lib/python3.13/site-packages/mlflow/types/utils.py:452: UserWarning: Hint: Inferred schema contains integer column(s). Integer columns in Python cannot represent missing values. If your input data contains missing values at inference time, it will be encoded as floats and will cause a schema enforcement error. The best way to avoid this problem is to infer the model schema based on a realistic data sample (training dataset) that includes missing values. Alternatively, you can declare integer columns as doubles (float64) whenever these columns may have missing values. See `Handling Integers With Missing Values <https://www.mlflow.org/docs/latest/models.html#handling-integers-with-missing-values>`_ for more details.\n",
      "  warnings.warn(\n"
     ]
    },
    {
     "name": "stdout",
     "output_type": "stream",
     "text": [
      "🏃 View run Random Forest at: http://127.0.0.1:5000/#/experiments/166694248471690535/runs/499f208d2e474b1fb447e00bee524940\n",
      "🧪 View experiment at: http://127.0.0.1:5000/#/experiments/166694248471690535\n",
      "\n",
      "🔹 Training XGBoost...\n"
     ]
    },
    {
     "name": "stderr",
     "output_type": "stream",
     "text": [
      "/Library/Frameworks/Python.framework/Versions/3.13/lib/python3.13/site-packages/mlflow/types/utils.py:452: UserWarning: Hint: Inferred schema contains integer column(s). Integer columns in Python cannot represent missing values. If your input data contains missing values at inference time, it will be encoded as floats and will cause a schema enforcement error. The best way to avoid this problem is to infer the model schema based on a realistic data sample (training dataset) that includes missing values. Alternatively, you can declare integer columns as doubles (float64) whenever these columns may have missing values. See `Handling Integers With Missing Values <https://www.mlflow.org/docs/latest/models.html#handling-integers-with-missing-values>`_ for more details.\n",
      "  warnings.warn(\n",
      "/Library/Frameworks/Python.framework/Versions/3.13/lib/python3.13/site-packages/xgboost/sklearn.py:1028: UserWarning: [15:06:37] WARNING: /Users/runner/work/xgboost/xgboost/src/c_api/c_api.cc:1427: Saving model in the UBJSON format as default.  You can use file extension: `json`, `ubj` or `deprecated` to choose between formats.\n",
      "  self.get_booster().save_model(fname)\n"
     ]
    },
    {
     "name": "stdout",
     "output_type": "stream",
     "text": [
      "🏃 View run XGBoost at: http://127.0.0.1:5000/#/experiments/166694248471690535/runs/961a8713d58846e289d8f31b299c71e8\n",
      "🧪 View experiment at: http://127.0.0.1:5000/#/experiments/166694248471690535\n",
      "\n",
      "📊 Evaluation Results:\n",
      "\n",
      "                      RMSLE      RMSE        R²       MAE\n",
      "Linear Regression  0.162876  1.078085  0.006458  0.788245\n",
      "Decision Tree      0.158783  1.050295  0.057019  0.751676\n",
      "Random Forest      0.158691  1.049579  0.058305  0.751017\n",
      "XGBoost            0.158508  1.048274  0.060645  0.751073\n"
     ]
    }
   ],
   "source": [
    "# Assuming X and y are already defined\n",
    "X_train, X_test, y_train, y_test = train_test_split(X, y, test_size=0.3, random_state=42)\n",
    "\n",
    "# Define models with their parameters\n",
    "models = {\n",
    "    \"Linear Regression\": LinearRegression(n_jobs=-1),\n",
    "    \"Decision Tree\": DecisionTreeRegressor(max_depth=6, min_samples_split=4, random_state=42),\n",
    "    \"Random Forest\": RandomForestRegressor(n_estimators=60, max_depth=6, min_samples_split=4, random_state=42),\n",
    "    \"XGBoost\": XGBRegressor(n_estimators=60, learning_rate=0.05, max_depth=6, objective='reg:squarederror', random_state=42)\n",
    "}\n",
    "\n",
    "mlflow.set_tracking_uri(\"http://127.0.0.1:5000\")\n",
    "\n",
    "# Set experiment name\n",
    "mlflow.set_experiment(\"Regression Model Evaluation\")\n",
    "\n",
    "results_test = {}\n",
    "\n",
    "for name, model in models.items():\n",
    "    print(f\"\\n🔹 Training {name}...\")\n",
    "\n",
    "    with mlflow.start_run(run_name=name):\n",
    "        # Train the model\n",
    "        model.fit(X_train, y_train)\n",
    "\n",
    "        # Predict\n",
    "        y_pred_test = model.predict(X_test)\n",
    "        y_pred_test = np.maximum(y_pred_test, 0)\n",
    "\n",
    "        # Evaluate\n",
    "        rmsle_test = np.sqrt(mean_squared_log_error(y_test, y_pred_test))\n",
    "        rmse_test = np.sqrt(mean_squared_error(y_test, y_pred_test))\n",
    "        r2_test = r2_score(y_test, y_pred_test)\n",
    "        mae_test = mean_absolute_error(y_test, y_pred_test)\n",
    "\n",
    "        # Save metrics\n",
    "        results_test[name] = {\n",
    "            \"RMSLE\": rmsle_test,\n",
    "            \"RMSE\": rmse_test,\n",
    "            \"R²\": r2_test,\n",
    "            \"MAE\": mae_test\n",
    "        }\n",
    "\n",
    "        # 🔸 Log parameters\n",
    "        params = model.get_params()\n",
    "        mlflow.log_params(params)\n",
    "\n",
    "        # 🔸 Log metrics\n",
    "        mlflow.log_metrics({\n",
    "            \"RMSLE\": rmsle_test,\n",
    "            \"RMSE\": rmse_test,\n",
    "            \"R2\": r2_test,\n",
    "            \"MAE\": mae_test\n",
    "        })\n",
    "\n",
    "        # 🔸 Log model\n",
    "        input_example = X_test.iloc[:1] if hasattr(X_test, \"iloc\") else X_test[:1]\n",
    "        signature = infer_signature(X_test, y_pred_test)\n",
    "\n",
    "        if \"XGB\" in name:\n",
    "            mlflow.xgboost.log_model(model, \"model\", signature=signature, input_example=input_example)\n",
    "        else:\n",
    "            mlflow.sklearn.log_model(model, \"model\", signature=signature, input_example=input_example)\n",
    "\n",
    "# Optional: Display results\n",
    "results_df = pd.DataFrame(results_test).T\n",
    "print(\"\\n📊 Evaluation Results:\\n\")\n",
    "print(results_df)\n"
   ]
  },
  {
   "cell_type": "code",
   "execution_count": 12,
   "id": "422cb4d8",
   "metadata": {},
   "outputs": [
    {
     "name": "stdout",
     "output_type": "stream",
     "text": [
      "\n",
      "📊 Testing Set Evaluation:\n",
      "                      RMSLE      RMSE        R²       MAE\n",
      "Linear Regression  0.162876  1.078085  0.006458  0.788245\n",
      "Decision Tree      0.158783  1.050295  0.057019  0.751676\n",
      "Random Forest      0.158691  1.049579  0.058305  0.751017\n",
      "XGBoost            0.158508  1.048274  0.060645  0.751073\n"
     ]
    }
   ],
   "source": [
    "# Display results\n",
    "results_test_df = pd.DataFrame(results_test).T\n",
    "\n",
    "print(\"\\n📊 Testing Set Evaluation:\")\n",
    "print(results_test_df)"
   ]
  },
  {
   "cell_type": "code",
   "execution_count": 13,
   "id": "48f24ae9",
   "metadata": {},
   "outputs": [
    {
     "name": "stdout",
     "output_type": "stream",
     "text": [
      "\n",
      "✅ Best performing model (lowest RMSE): XGBoost\n"
     ]
    }
   ],
   "source": [
    "# Identify best model based on RMSE\n",
    "best_model_name = results_df[\"RMSE\"].idxmin()\n",
    "print(f\"\\n✅ Best performing model (lowest RMSE): {best_model_name}\")"
   ]
  },
  {
   "cell_type": "markdown",
   "id": "73ce13ab",
   "metadata": {},
   "source": [
    "Cross Validations"
   ]
  },
  {
   "cell_type": "code",
   "execution_count": 14,
   "id": "38497966",
   "metadata": {},
   "outputs": [
    {
     "name": "stdout",
     "output_type": "stream",
     "text": [
      "All 5-Fold Scores: [0.061845   0.06119345 0.05970877 0.06449261 0.06319734]\n",
      "\n",
      "Mean R2 Score: 0.0621\n"
     ]
    }
   ],
   "source": [
    "from xgboost import XGBRegressor\n",
    "from sklearn.model_selection import cross_val_score, KFold\n",
    "import numpy as np\n",
    "\n",
    "# Define the model\n",
    "xgb = XGBRegressor(n_estimators=100, random_state=42)\n",
    "\n",
    "# Define K-Fold Cross-Validation\n",
    "kf = KFold(n_splits=5, shuffle=True, random_state=42)\n",
    "\n",
    "# Perform Cross-Validation\n",
    "cv_scores = cross_val_score(xgb, X, y, cv=kf, scoring='r2')\n",
    "\n",
    "# Print all 5 scores\n",
    "print(f\"All 5-Fold Scores: {cv_scores}\")\n",
    "print()\n",
    "# Compare Mean and Standard Deviation\n",
    "print(f\"Mean R2 Score: {np.mean(cv_scores):.4f}\")"
   ]
  },
  {
   "cell_type": "markdown",
   "id": "a12959be",
   "metadata": {},
   "source": [
    "Hyperparameter tuning"
   ]
  },
  {
   "cell_type": "code",
   "execution_count": 15,
   "id": "c6c2c41e",
   "metadata": {},
   "outputs": [
    {
     "name": "stdout",
     "output_type": "stream",
     "text": [
      "Fitting 3 folds for each of 20 candidates, totalling 60 fits\n",
      "Best Hyperparameters: {'subsample': 1.0, 'n_estimators': 100, 'max_depth': 5, 'learning_rate': 0.1, 'gamma': 0, 'colsample_bytree': 0.8}\n",
      "RMSLE: 0.1569\n",
      "MAE: 0.7439\n",
      "RMSE: 1.0368\n",
      "R²: 0.0797\n"
     ]
    }
   ],
   "source": [
    "from sklearn.model_selection import RandomizedSearchCV\n",
    "from sklearn.metrics import mean_squared_log_error, mean_absolute_error, mean_squared_error, r2_score\n",
    "from xgboost import XGBRegressor\n",
    "\n",
    "# Sample 10% of the data for training\n",
    "train_sample = df1.sample(frac=0.1, random_state=42)\n",
    "X_train = train_sample.drop(columns=[\"Premium Amount\"])\n",
    "y_train = train_sample[\"Premium Amount\"]\n",
    "\n",
    "# Define XGBoost model\n",
    "xgb_model = XGBRegressor(\n",
    "    objective='reg:squarederror',\n",
    "    random_state=42,\n",
    "    tree_method='hist'  # 'hist' is faster with large datasets\n",
    ")\n",
    "\n",
    "# Hyperparameter grid\n",
    "param_grid = {\n",
    "    'n_estimators': [100, 200],\n",
    "    'learning_rate': [0.01, 0.1],\n",
    "    'max_depth': [3, 5],\n",
    "    'subsample': [0.8, 1.0],\n",
    "    'colsample_bytree': [0.8, 1.0],\n",
    "    'gamma': [0, 0.1]\n",
    "}\n",
    "\n",
    "# RandomizedSearchCV setup\n",
    "grid_search = RandomizedSearchCV(\n",
    "    estimator=xgb_model,\n",
    "    param_distributions=param_grid,\n",
    "    n_iter=20,\n",
    "    scoring='neg_root_mean_squared_error',\n",
    "    cv=3,\n",
    "    verbose=1,\n",
    "    n_jobs=-1,\n",
    "    random_state=42\n",
    ")\n",
    "\n",
    "# Fit model on training data\n",
    "grid_search.fit(X_train, y_train)\n",
    "\n",
    "# Best model\n",
    "best_xgb_model = grid_search.best_estimator_\n",
    "y_pred_train = best_xgb_model.predict(X_train)\n",
    "\n",
    "# Evaluation metrics\n",
    "rmsle = np.sqrt(mean_squared_log_error(y_train, np.maximum(y_pred_train, 0)))  # Ensure no negative predictions\n",
    "mae = mean_absolute_error(y_train, y_pred_train)\n",
    "rmse = np.sqrt(mean_squared_error(y_train, y_pred_train))\n",
    "r2 = r2_score(y_train, y_pred_train)\n",
    "\n",
    "# Display results\n",
    "print(\"Best Hyperparameters:\", grid_search.best_params_)\n",
    "print(f\"RMSLE: {rmsle:.4f}\")\n",
    "print(f\"MAE: {mae:.4f}\")\n",
    "print(f\"RMSE: {rmse:.4f}\")\n",
    "print(f\"R²: {r2:.4f}\")\n",
    "\n"
   ]
  },
  {
   "cell_type": "code",
   "execution_count": 16,
   "id": "b9b0de38",
   "metadata": {},
   "outputs": [
    {
     "name": "stdout",
     "output_type": "stream",
     "text": [
      "\n",
      "Final Model Evaluation Metrics:\n",
      "RMSLE: 0.1583\n",
      "MAE:   0.7503\n",
      "RMSE:  1.0472\n",
      "R²:    0.0618\n",
      "{None}\n"
     ]
    }
   ],
   "source": [
    "from xgboost import XGBRegressor\n",
    "from sklearn.model_selection import train_test_split\n",
    "from sklearn.metrics import mean_squared_log_error, mean_squared_error, mean_absolute_error, r2_score\n",
    "from sklearn.preprocessing import StandardScaler\n",
    "import pandas as pd\n",
    "import numpy as np\n",
    "\n",
    "# --- Step 1: Define features and target ---\n",
    "X = df1.drop(columns=[\"Premium Amount\"])   # Replace with your actual target column\n",
    "y = df1[\"Premium Amount\"]\n",
    "\n",
    "# --- Step 2: Scale features ---\n",
    "scaler = StandardScaler()\n",
    "X_scaled = scaler.fit_transform(X)\n",
    "\n",
    "# --- Step 3: Train-test split ---\n",
    "X_train, X_test, y_train, y_test = train_test_split(\n",
    "    X_scaled, y, test_size=0.2, random_state=42\n",
    ")\n",
    "\n",
    "# --- Step 4: Train final model with best hyperparameters ---\n",
    "final_model = XGBRegressor(\n",
    "    subsample=1.0,\n",
    "    n_estimators=100,\n",
    "    max_depth=5,\n",
    "    learning_rate=0.1,\n",
    "    gamma=0,\n",
    "    colsample_bytree=0.8,\n",
    "    objective='reg:squarederror',\n",
    "    random_state=42\n",
    ")\n",
    "\n",
    "final_model.fit(X_train, y_train)\n",
    "\n",
    "# --- Step 5: Evaluate model on test set ---\n",
    "y_pred = final_model.predict(X_test)\n",
    "\n",
    "rmsle = np.sqrt(mean_squared_log_error(y_test, np.maximum(y_pred, 0)))\n",
    "rmse = np.sqrt(mean_squared_error(y_test, y_pred))\n",
    "mae = mean_absolute_error(y_test, y_pred)\n",
    "r2 = r2_score(y_test, y_pred)\n",
    "\n",
    "print(\"\\nFinal Model Evaluation Metrics:\")\n",
    "report = {\n",
    "print(f\"RMSLE: {rmsle:.4f}\"),\n",
    "print(f\"MAE:   {mae:.4f}\"),\n",
    "print(f\"RMSE:  {rmse:.4f}\"),\n",
    "print(f\"R²:    {r2:.4f}\") \n",
    "}\n",
    "\n",
    "\n",
    "print(report)"
   ]
  },
  {
   "cell_type": "code",
   "execution_count": 17,
   "id": "22aad47a",
   "metadata": {},
   "outputs": [
    {
     "name": "stdout",
     "output_type": "stream",
     "text": [
      "✅ Model and scaler saved successfully!\n"
     ]
    }
   ],
   "source": [
    "import pickle\n",
    "\n",
    "# Save the model\n",
    "with open(\"/Users/somesh-19583/Desktop/Insurance_amount_prediction/Pickled Data/xgb_model.pkl\", \"wb\") as model_file:\n",
    "    pickle.dump(final_model, model_file)\n",
    "\n",
    "# Save the scaler\n",
    "with open(\"/Users/somesh-19583/Desktop/Insurance_amount_prediction/Pickled Data/scaler.pkl\", \"wb\") as scaler_file:\n",
    "    pickle.dump(scaler, scaler_file)\n",
    "\n",
    "print(\"✅ Model and scaler saved successfully!\")\n"
   ]
  },
  {
   "cell_type": "code",
   "execution_count": 18,
   "id": "231277cd",
   "metadata": {},
   "outputs": [],
   "source": [
    "\n",
    "\n",
    "y_pred_actual = np.expm1(y_pred)  # Inverse of log1p\n",
    "\n",
    "# Inverse log-transform of true y_test values for accurate evaluation\n",
    "y_test_actual = np.expm1(y_test)\n"
   ]
  },
  {
   "cell_type": "code",
   "execution_count": 19,
   "id": "30bcbdba",
   "metadata": {},
   "outputs": [
    {
     "data": {
      "text/plain": [
       "array([ 833.23474, 1003.2185 ,  816.34235, ...,  803.6177 ,  712.3683 ,\n",
       "        856.37286], shape=(240000,), dtype=float32)"
      ]
     },
     "execution_count": 19,
     "metadata": {},
     "output_type": "execute_result"
    }
   ],
   "source": [
    "y_pred_actual"
   ]
  },
  {
   "cell_type": "code",
   "execution_count": 20,
   "id": "78d80104",
   "metadata": {},
   "outputs": [
    {
     "data": {
      "text/plain": [
       "372605     2743.0\n",
       "551204     1348.0\n",
       "240320     2197.0\n",
       "1047361     685.0\n",
       "555362     1715.0\n",
       "            ...  \n",
       "458271     1287.0\n",
       "1124744      25.0\n",
       "720454      972.0\n",
       "256458      563.0\n",
       "423212     1485.0\n",
       "Name: Premium Amount, Length: 240000, dtype: float64"
      ]
     },
     "execution_count": 20,
     "metadata": {},
     "output_type": "execute_result"
    }
   ],
   "source": [
    "y_test_actual"
   ]
  }
 ],
 "metadata": {
  "kernelspec": {
   "display_name": "Python 3",
   "language": "python",
   "name": "python3"
  },
  "language_info": {
   "codemirror_mode": {
    "name": "ipython",
    "version": 3
   },
   "file_extension": ".py",
   "mimetype": "text/x-python",
   "name": "python",
   "nbconvert_exporter": "python",
   "pygments_lexer": "ipython3",
   "version": "3.13.2"
  }
 },
 "nbformat": 4,
 "nbformat_minor": 5
}
